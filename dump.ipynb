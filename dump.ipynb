{
 "cells": [
  {
   "cell_type": "code",
   "execution_count": null,
   "metadata": {},
   "outputs": [],
   "source": [
    "#Gender Demographics\n",
    "#\n",
    "#Percentage and Count of Male Players\n",
    "#Percentage and Count of Female Players\n",
    "#Percentage and Count of Other / Non-Disclosed\n",
    "\n",
    "\n",
    "\n",
    "Male_df = o_HOP_df.loc[o_HOP_df['Gender'] == 'Male']\n",
    "Count_Male = Male_df['Screen Name'].nunique()\n",
    "Count_Male\n",
    "\n",
    "Female_df = o_HOP_df.loc[o_HOP_df['Gender']=='Female']\n",
    "Count_Female = Female_df['Screen Name'].nunique()\n",
    "Count_Female\n",
    "\n",
    "Other_df = o_HOP_df.loc[o_HOP_df['Gender']=='Other / Non-Disclosed']\n",
    "Count_Other = Other_df['Screen Name'].nunique()\n",
    "Count_Other\n",
    "\n",
    "Male_Pct = round(Count_Male/Total_Players *100,2)\n",
    "Male_Pct\n",
    "\n",
    "Female_Pct = round(Count_Female/Total_Players *100,2)\n",
    "Female_Pct\n",
    "\n",
    "Other_Pct = round(Count_Other/Total_Players *100,2)\n",
    "Other_Pct"
   ]
  },
  {
   "cell_type": "code",
   "execution_count": null,
   "metadata": {},
   "outputs": [],
   "source": [
    "#Summary report for Gender Demographics\n",
    "might also be able to do a df where I pass key as 'Gender' with a list of the counts and then another key for percentage with the list of the percentages. \n",
    "\n",
    "like 'Gender':[Count_Male, Count_Female, Count_Other],\n",
    "I can use .map to format the percentages\n",
    "\n",
    "Gender_summary_df = pd.DataFrame({\n",
    "    'Male Players': [Count_Male],\n",
    "    '% of Male Players': str(Male_Pct) + '%',\n",
    "    'Female Players': [Count_Female],\n",
    "    '% of Female Players': str(Female_Pct) + '%',\n",
    "    'Other/Not Disclosed': [Count_Other],\n",
    "    '% of Other/Not Disclosed': str(Other_Pct) + '%'\n",
    "\n",
    "\n",
    "})\n",
    "\n",
    "\n",
    "Gender_summary_df = Gender_summary_df.stack()\n",
    "Gender_summary_df"
   ]
  }
 ],
 "metadata": {
  "kernelspec": {
   "display_name": "Python 3",
   "language": "python",
   "name": "python3"
  },
  "language_info": {
   "codemirror_mode": {
    "name": "ipython",
    "version": 3
   },
   "file_extension": ".py",
   "mimetype": "text/x-python",
   "name": "python",
   "nbconvert_exporter": "python",
   "pygments_lexer": "ipython3",
   "version": "3.7.3"
  }
 },
 "nbformat": 4,
 "nbformat_minor": 2
}
