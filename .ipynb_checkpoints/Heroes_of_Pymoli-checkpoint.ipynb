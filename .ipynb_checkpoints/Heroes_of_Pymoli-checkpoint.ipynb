{
 "cells": [
  {
   "cell_type": "code",
   "execution_count": 2,
   "metadata": {},
   "outputs": [],
   "source": [
    "#Dependencies\n",
    "\n",
    "import pandas as pd\n",
    "import numpy\n",
    "import os\n"
   ]
  },
  {
   "cell_type": "code",
   "execution_count": 6,
   "metadata": {},
   "outputs": [
    {
     "data": {
      "text/html": [
       "<div>\n",
       "<style scoped>\n",
       "    .dataframe tbody tr th:only-of-type {\n",
       "        vertical-align: middle;\n",
       "    }\n",
       "\n",
       "    .dataframe tbody tr th {\n",
       "        vertical-align: top;\n",
       "    }\n",
       "\n",
       "    .dataframe thead th {\n",
       "        text-align: right;\n",
       "    }\n",
       "</style>\n",
       "<table border=\"1\" class=\"dataframe\">\n",
       "  <thead>\n",
       "    <tr style=\"text-align: right;\">\n",
       "      <th></th>\n",
       "      <th>Purchase ID</th>\n",
       "      <th>SN</th>\n",
       "      <th>Age</th>\n",
       "      <th>Gender</th>\n",
       "      <th>Item ID</th>\n",
       "      <th>Item Name</th>\n",
       "      <th>Price</th>\n",
       "    </tr>\n",
       "  </thead>\n",
       "  <tbody>\n",
       "    <tr>\n",
       "      <th>0</th>\n",
       "      <td>0</td>\n",
       "      <td>Lisim78</td>\n",
       "      <td>20</td>\n",
       "      <td>Male</td>\n",
       "      <td>108</td>\n",
       "      <td>Extraction, Quickblade Of Trembling Hands</td>\n",
       "      <td>3.53</td>\n",
       "    </tr>\n",
       "    <tr>\n",
       "      <th>1</th>\n",
       "      <td>1</td>\n",
       "      <td>Lisovynya38</td>\n",
       "      <td>40</td>\n",
       "      <td>Male</td>\n",
       "      <td>143</td>\n",
       "      <td>Frenzied Scimitar</td>\n",
       "      <td>1.56</td>\n",
       "    </tr>\n",
       "    <tr>\n",
       "      <th>2</th>\n",
       "      <td>2</td>\n",
       "      <td>Ithergue48</td>\n",
       "      <td>24</td>\n",
       "      <td>Male</td>\n",
       "      <td>92</td>\n",
       "      <td>Final Critic</td>\n",
       "      <td>4.88</td>\n",
       "    </tr>\n",
       "    <tr>\n",
       "      <th>3</th>\n",
       "      <td>3</td>\n",
       "      <td>Chamassasya86</td>\n",
       "      <td>24</td>\n",
       "      <td>Male</td>\n",
       "      <td>100</td>\n",
       "      <td>Blindscythe</td>\n",
       "      <td>3.27</td>\n",
       "    </tr>\n",
       "    <tr>\n",
       "      <th>4</th>\n",
       "      <td>4</td>\n",
       "      <td>Iskosia90</td>\n",
       "      <td>23</td>\n",
       "      <td>Male</td>\n",
       "      <td>131</td>\n",
       "      <td>Fury</td>\n",
       "      <td>1.44</td>\n",
       "    </tr>\n",
       "  </tbody>\n",
       "</table>\n",
       "</div>"
      ],
      "text/plain": [
       "   Purchase ID             SN  Age Gender  Item ID  \\\n",
       "0            0        Lisim78   20   Male      108   \n",
       "1            1    Lisovynya38   40   Male      143   \n",
       "2            2     Ithergue48   24   Male       92   \n",
       "3            3  Chamassasya86   24   Male      100   \n",
       "4            4      Iskosia90   23   Male      131   \n",
       "\n",
       "                                   Item Name  Price  \n",
       "0  Extraction, Quickblade Of Trembling Hands   3.53  \n",
       "1                          Frenzied Scimitar   1.56  \n",
       "2                               Final Critic   4.88  \n",
       "3                                Blindscythe   3.27  \n",
       "4                                       Fury   1.44  "
      ]
     },
     "execution_count": 6,
     "metadata": {},
     "output_type": "execute_result"
    }
   ],
   "source": [
    "#Open data file and create dataframe\n",
    "\n",
    "#curdir = os.getcwd()\n",
    "#print(curdir)\n",
    "\n",
    "path = \"Resources/purchase_data.csv\"\n",
    "HOP_df = pd.read_csv(path, encoding=\"ISO-8859-1\")\n",
    "\n",
    "HOP_df.head()"
   ]
  },
  {
   "cell_type": "code",
   "execution_count": 88,
   "metadata": {},
   "outputs": [],
   "source": [
    "#Clean up the data if needed\n",
    "\n",
    "HOP_df.count()\n",
    "HOP_df.dtypes\n",
    "\n",
    "#o_HOP_df = HOP_df.rename(columns={'SN':'Screen Name'})\n",
    "\n",
    "o_HOP_df['Gender'].value_counts()\n",
    "\n",
    "o_HOP_df = o_HOP_df.dropna(how='any')\n"
   ]
  },
  {
   "cell_type": "code",
   "execution_count": 89,
   "metadata": {},
   "outputs": [
    {
     "data": {
      "text/plain": [
       "780"
      ]
     },
     "execution_count": 89,
     "metadata": {},
     "output_type": "execute_result"
    }
   ],
   "source": [
    "#Player Count\n",
    "#\n",
    "#Total Number of Players\n",
    "\n",
    "Total_Players = o_HOP_df['Screen Name'].count()\n",
    "Total_Players"
   ]
  },
  {
   "cell_type": "code",
   "execution_count": 33,
   "metadata": {},
   "outputs": [
    {
     "data": {
      "text/plain": [
       "3.05"
      ]
     },
     "execution_count": 33,
     "metadata": {},
     "output_type": "execute_result"
    }
   ],
   "source": [
    "#Purchasing Analysis (Total)\n",
    "#\n",
    "#Number of Unique Items\n",
    "#Average Purchase Price\n",
    "#Total Number of Purchases\n",
    "#Total Revenue\n",
    "\n",
    "\n",
    "Unique_Items = o_HOP_df['Item ID'].nunique()\n",
    "Unique_Items\n",
    "\n",
    "Total_PP = round(o_HOP_df['Price'].sum(),2)\n",
    "Count_PP = o_HOP_df['Price'].count()\n",
    "Avg_PP = round(Total_PP/Count_PP,2)\n",
    "Avg_PP\n",
    "\n"
   ]
  },
  {
   "cell_type": "code",
   "execution_count": 35,
   "metadata": {},
   "outputs": [
    {
     "data": {
      "text/html": [
       "<div>\n",
       "<style scoped>\n",
       "    .dataframe tbody tr th:only-of-type {\n",
       "        vertical-align: middle;\n",
       "    }\n",
       "\n",
       "    .dataframe tbody tr th {\n",
       "        vertical-align: top;\n",
       "    }\n",
       "\n",
       "    .dataframe thead th {\n",
       "        text-align: right;\n",
       "    }\n",
       "</style>\n",
       "<table border=\"1\" class=\"dataframe\">\n",
       "  <thead>\n",
       "    <tr style=\"text-align: right;\">\n",
       "      <th></th>\n",
       "      <th>No. of Unique Items</th>\n",
       "      <th>Avg Purchase Price</th>\n",
       "      <th>Total No. of Purchases</th>\n",
       "      <th>Total Revenue</th>\n",
       "    </tr>\n",
       "  </thead>\n",
       "  <tbody>\n",
       "    <tr>\n",
       "      <th>0</th>\n",
       "      <td>183</td>\n",
       "      <td>3.05</td>\n",
       "      <td>780</td>\n",
       "      <td>2379.77</td>\n",
       "    </tr>\n",
       "  </tbody>\n",
       "</table>\n",
       "</div>"
      ],
      "text/plain": [
       "   No. of Unique Items  Avg Purchase Price  Total No. of Purchases  \\\n",
       "0                  183                3.05                     780   \n",
       "\n",
       "   Total Revenue  \n",
       "0        2379.77  "
      ]
     },
     "execution_count": 35,
     "metadata": {},
     "output_type": "execute_result"
    }
   ],
   "source": [
    "#Summary report for the Purchasing Analysis\n",
    "\n",
    "\n",
    "Purchasing_summary_df = pd.DataFrame({\n",
    "    'No. of Unique Items': [Unique_Items],\n",
    "    'Avg Purchase Price': [Avg_PP],\n",
    "    'Total No. of Purchases': [Count_PP],\n",
    "    'Total Revenue': [Total_PP]\n",
    "\n",
    "\n",
    "})\n",
    "\n",
    "Purchasing_summary_df"
   ]
  },
  {
   "cell_type": "code",
   "execution_count": 83,
   "metadata": {},
   "outputs": [
    {
     "data": {
      "text/plain": [
       "0.63"
      ]
     },
     "execution_count": 83,
     "metadata": {},
     "output_type": "execute_result"
    }
   ],
   "source": [
    "#Gender Demographics\n",
    "#\n",
    "#Percentage and Count of Male Players\n",
    "#Percentage and Count of Female Players\n",
    "#Percentage and Count of Other / Non-Disclosed\n",
    "\n",
    "\n",
    "\n",
    "Male_df = o_HOP_df.loc[o_HOP_df['Gender'] == 'Male']\n",
    "Count_Male = Male_df['Gender'].count()\n",
    "Count_Male\n",
    "\n",
    "Female_df = o_HOP_df.loc[o_HOP_df['Gender']=='Female']\n",
    "Count_Female = Female_df['Gender'].count()\n",
    "Count_Female\n",
    "\n",
    "Other_df = o_HOP_df.loc[o_HOP_df['Gender']=='Other / Non-Disclosed']\n",
    "Count_Other = Other_df['Gender'].count()\n",
    "Count_Other\n",
    "\n",
    "Male_Pct = round(Count_Male/Total_PP *100,2)\n",
    "Male_Pct\n",
    "\n",
    "Female_Pct = round(Count_Female/Total_PP *100,2)\n",
    "Female_Pct\n",
    "\n",
    "Other_Pct = round(Count_Other/Total_PP *100,2)\n",
    "Other_Pct\n"
   ]
  },
  {
   "cell_type": "code",
   "execution_count": 84,
   "metadata": {},
   "outputs": [
    {
     "data": {
      "text/html": [
       "<div>\n",
       "<style scoped>\n",
       "    .dataframe tbody tr th:only-of-type {\n",
       "        vertical-align: middle;\n",
       "    }\n",
       "\n",
       "    .dataframe tbody tr th {\n",
       "        vertical-align: top;\n",
       "    }\n",
       "\n",
       "    .dataframe thead th {\n",
       "        text-align: right;\n",
       "    }\n",
       "</style>\n",
       "<table border=\"1\" class=\"dataframe\">\n",
       "  <thead>\n",
       "    <tr style=\"text-align: right;\">\n",
       "      <th></th>\n",
       "      <th>No. of Male Players</th>\n",
       "      <th>% of Male Players</th>\n",
       "      <th>No.of Female Players</th>\n",
       "      <th>% of Female Players</th>\n",
       "      <th>No. of Other/Not Disclosed</th>\n",
       "      <th>% of Other/Not Disclosed</th>\n",
       "    </tr>\n",
       "  </thead>\n",
       "  <tbody>\n",
       "    <tr>\n",
       "      <th>0</th>\n",
       "      <td>652</td>\n",
       "      <td>27.4%</td>\n",
       "      <td>113</td>\n",
       "      <td>4.75%</td>\n",
       "      <td>15</td>\n",
       "      <td>0.63%</td>\n",
       "    </tr>\n",
       "  </tbody>\n",
       "</table>\n",
       "</div>"
      ],
      "text/plain": [
       "   No. of Male Players % of Male Players  No.of Female Players  \\\n",
       "0                  652             27.4%                   113   \n",
       "\n",
       "  % of Female Players  No. of Other/Not Disclosed % of Other/Not Disclosed  \n",
       "0               4.75%                          15                    0.63%  "
      ]
     },
     "execution_count": 84,
     "metadata": {},
     "output_type": "execute_result"
    }
   ],
   "source": [
    "#Summary report for Gender Demographics\n",
    "\n",
    "\n",
    "Gender_summary_df = pd.DataFrame({\n",
    "    'No. of Male Players': [Count_Male],\n",
    "    '% of Male Players': str(Male_Pct) + '%',\n",
    "    'No.of Female Players': [Count_Female],\n",
    "    '% of Female Players': str(Female_Pct) + '%',\n",
    "    'No. of Other/Not Disclosed': [Count_Other],\n",
    "    '% of Other/Not Disclosed': str(Other_Pct) + '%'\n",
    "\n",
    "\n",
    "})\n",
    "\n",
    "Gender_summary_df"
   ]
  },
  {
   "cell_type": "code",
   "execution_count": 87,
   "metadata": {},
   "outputs": [
    {
     "data": {
      "text/plain": [
       "652"
      ]
     },
     "execution_count": 87,
     "metadata": {},
     "output_type": "execute_result"
    }
   ],
   "source": [
    "#Purchasing Analysis (Gender)\n",
    "#\n",
    "#The below each broken by gender\n",
    "#\n",
    "#Purchase Count\n",
    "#Average Purchase Price\n",
    "#Total Purchase Value\n",
    "#Average Purchase Total per Person by Gender\n",
    "\n",
    "\n",
    "\n",
    "\n",
    "\n",
    "\n",
    "\n",
    "\n",
    "\n"
   ]
  },
  {
   "cell_type": "code",
   "execution_count": null,
   "metadata": {},
   "outputs": [],
   "source": [
    "#Summary report for Purchasing Analysis (Gender)\n",
    "\n",
    "\n",
    "Gender_summary_df = pd.DataFrame({\n",
    "    'No. of Male Players': [Count_Male],\n",
    "    '% of Male Players': str(Male_Pct) + '%',\n",
    "    'No.of Female Players': [Count_Female],\n",
    "    '% of Female Players': str(Female_Pct) + '%',\n",
    "    'No. of Other/Not Disclosed': [Count_Other],\n",
    "    '% of Other/Not Disclosed': str(Other_Pct) + '%'\n",
    "\n",
    "\n",
    "})\n",
    "\n",
    "Gender_summary_df"
   ]
  }
 ],
 "metadata": {
  "kernelspec": {
   "display_name": "Python 3",
   "language": "python",
   "name": "python3"
  },
  "language_info": {
   "codemirror_mode": {
    "name": "ipython",
    "version": 3
   },
   "file_extension": ".py",
   "mimetype": "text/x-python",
   "name": "python",
   "nbconvert_exporter": "python",
   "pygments_lexer": "ipython3",
   "version": "3.7.3"
  }
 },
 "nbformat": 4,
 "nbformat_minor": 2
}
