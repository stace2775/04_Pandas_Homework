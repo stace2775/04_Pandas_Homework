{
 "cells": [
  {
   "cell_type": "code",
   "execution_count": 37,
   "metadata": {},
   "outputs": [],
   "source": [
    "#Dependencies\n",
    "\n",
    "import pandas as pd\n",
    "import numpy as np\n",
    "import os\n"
   ]
  },
  {
   "cell_type": "code",
   "execution_count": 38,
   "metadata": {},
   "outputs": [
    {
     "data": {
      "text/html": [
       "<div>\n",
       "<style scoped>\n",
       "    .dataframe tbody tr th:only-of-type {\n",
       "        vertical-align: middle;\n",
       "    }\n",
       "\n",
       "    .dataframe tbody tr th {\n",
       "        vertical-align: top;\n",
       "    }\n",
       "\n",
       "    .dataframe thead th {\n",
       "        text-align: right;\n",
       "    }\n",
       "</style>\n",
       "<table border=\"1\" class=\"dataframe\">\n",
       "  <thead>\n",
       "    <tr style=\"text-align: right;\">\n",
       "      <th></th>\n",
       "      <th>Purchase ID</th>\n",
       "      <th>SN</th>\n",
       "      <th>Age</th>\n",
       "      <th>Gender</th>\n",
       "      <th>Item ID</th>\n",
       "      <th>Item Name</th>\n",
       "      <th>Price</th>\n",
       "    </tr>\n",
       "  </thead>\n",
       "  <tbody>\n",
       "    <tr>\n",
       "      <th>0</th>\n",
       "      <td>0</td>\n",
       "      <td>Lisim78</td>\n",
       "      <td>20</td>\n",
       "      <td>Male</td>\n",
       "      <td>108</td>\n",
       "      <td>Extraction, Quickblade Of Trembling Hands</td>\n",
       "      <td>3.53</td>\n",
       "    </tr>\n",
       "    <tr>\n",
       "      <th>1</th>\n",
       "      <td>1</td>\n",
       "      <td>Lisovynya38</td>\n",
       "      <td>40</td>\n",
       "      <td>Male</td>\n",
       "      <td>143</td>\n",
       "      <td>Frenzied Scimitar</td>\n",
       "      <td>1.56</td>\n",
       "    </tr>\n",
       "    <tr>\n",
       "      <th>2</th>\n",
       "      <td>2</td>\n",
       "      <td>Ithergue48</td>\n",
       "      <td>24</td>\n",
       "      <td>Male</td>\n",
       "      <td>92</td>\n",
       "      <td>Final Critic</td>\n",
       "      <td>4.88</td>\n",
       "    </tr>\n",
       "    <tr>\n",
       "      <th>3</th>\n",
       "      <td>3</td>\n",
       "      <td>Chamassasya86</td>\n",
       "      <td>24</td>\n",
       "      <td>Male</td>\n",
       "      <td>100</td>\n",
       "      <td>Blindscythe</td>\n",
       "      <td>3.27</td>\n",
       "    </tr>\n",
       "    <tr>\n",
       "      <th>4</th>\n",
       "      <td>4</td>\n",
       "      <td>Iskosia90</td>\n",
       "      <td>23</td>\n",
       "      <td>Male</td>\n",
       "      <td>131</td>\n",
       "      <td>Fury</td>\n",
       "      <td>1.44</td>\n",
       "    </tr>\n",
       "  </tbody>\n",
       "</table>\n",
       "</div>"
      ],
      "text/plain": [
       "   Purchase ID             SN  Age Gender  Item ID  \\\n",
       "0            0        Lisim78   20   Male      108   \n",
       "1            1    Lisovynya38   40   Male      143   \n",
       "2            2     Ithergue48   24   Male       92   \n",
       "3            3  Chamassasya86   24   Male      100   \n",
       "4            4      Iskosia90   23   Male      131   \n",
       "\n",
       "                                   Item Name  Price  \n",
       "0  Extraction, Quickblade Of Trembling Hands   3.53  \n",
       "1                          Frenzied Scimitar   1.56  \n",
       "2                               Final Critic   4.88  \n",
       "3                                Blindscythe   3.27  \n",
       "4                                       Fury   1.44  "
      ]
     },
     "execution_count": 38,
     "metadata": {},
     "output_type": "execute_result"
    }
   ],
   "source": [
    "#Open data file and create dataframe\n",
    "\n",
    "#curdir = os.getcwd()\n",
    "#print(curdir)\n",
    "\n",
    "path = \"Resources/purchase_data.csv\"\n",
    "HOP_df = pd.read_csv(path, encoding=\"ISO-8859-1\")\n",
    "\n",
    "HOP_df.head()"
   ]
  },
  {
   "cell_type": "code",
   "execution_count": 39,
   "metadata": {},
   "outputs": [],
   "source": [
    "#Clean up the data if needed\n",
    "\n",
    "HOP_df.count()\n",
    "HOP_df.dtypes\n",
    "\n",
    "o_HOP_df = HOP_df.rename(columns={'SN':'Screen Name'})\n",
    "\n",
    "#o_HOP_df['Gender'].value_counts()\n",
    "\n",
    "#o_HOP_df = o_HOP_df.dropna(how='any')\n"
   ]
  },
  {
   "cell_type": "code",
   "execution_count": 59,
   "metadata": {},
   "outputs": [
    {
     "data": {
      "text/html": [
       "<div>\n",
       "<style scoped>\n",
       "    .dataframe tbody tr th:only-of-type {\n",
       "        vertical-align: middle;\n",
       "    }\n",
       "\n",
       "    .dataframe tbody tr th {\n",
       "        vertical-align: top;\n",
       "    }\n",
       "\n",
       "    .dataframe thead th {\n",
       "        text-align: right;\n",
       "    }\n",
       "</style>\n",
       "<table border=\"1\" class=\"dataframe\">\n",
       "  <thead>\n",
       "    <tr style=\"text-align: right;\">\n",
       "      <th></th>\n",
       "      <th>Total Players</th>\n",
       "    </tr>\n",
       "  </thead>\n",
       "  <tbody>\n",
       "    <tr>\n",
       "      <th>0</th>\n",
       "      <td>576</td>\n",
       "    </tr>\n",
       "  </tbody>\n",
       "</table>\n",
       "</div>"
      ],
      "text/plain": [
       "   Total Players\n",
       "0            576"
      ]
     },
     "execution_count": 59,
     "metadata": {},
     "output_type": "execute_result"
    }
   ],
   "source": [
    "#Player Count\n",
    "#\n",
    "#Total Number of Players ... based on the number of unique screen names\n",
    "\n",
    "Total_Players = o_HOP_df['Screen Name'].nunique()\n",
    "TP_df = pd.DataFrame({\"Total Players\": [Total_Players]})\n",
    "TP_df"
   ]
  },
  {
   "cell_type": "code",
   "execution_count": 60,
   "metadata": {},
   "outputs": [],
   "source": [
    "#Purchasing Analysis (Total)\n",
    "#\n",
    "#Number of Unique Items\n",
    "#Average Purchase Price\n",
    "#Total Number of Purchases\n",
    "#Total Revenue\n",
    "\n",
    "\n",
    "Unique_Items = o_HOP_df['Item ID'].nunique()\n",
    "Total_PP = round(o_HOP_df['Price'].sum(),2)\n",
    "Count_PP = o_HOP_df['Price'].count()\n",
    "Avg_PP = round(Total_PP/Count_PP,2)"
   ]
  },
  {
   "cell_type": "code",
   "execution_count": 61,
   "metadata": {},
   "outputs": [
    {
     "data": {
      "text/html": [
       "<div>\n",
       "<style scoped>\n",
       "    .dataframe tbody tr th:only-of-type {\n",
       "        vertical-align: middle;\n",
       "    }\n",
       "\n",
       "    .dataframe tbody tr th {\n",
       "        vertical-align: top;\n",
       "    }\n",
       "\n",
       "    .dataframe thead th {\n",
       "        text-align: right;\n",
       "    }\n",
       "</style>\n",
       "<table border=\"1\" class=\"dataframe\">\n",
       "  <thead>\n",
       "    <tr style=\"text-align: right;\">\n",
       "      <th></th>\n",
       "      <th>No. of Unique Items</th>\n",
       "      <th>Avg Purchase Price</th>\n",
       "      <th>Total No. of Purchases</th>\n",
       "      <th>Total Revenue</th>\n",
       "    </tr>\n",
       "  </thead>\n",
       "  <tbody>\n",
       "    <tr>\n",
       "      <th>0</th>\n",
       "      <td>183</td>\n",
       "      <td>3.05</td>\n",
       "      <td>780</td>\n",
       "      <td>2379.77</td>\n",
       "    </tr>\n",
       "  </tbody>\n",
       "</table>\n",
       "</div>"
      ],
      "text/plain": [
       "   No. of Unique Items  Avg Purchase Price  Total No. of Purchases  \\\n",
       "0                  183                3.05                     780   \n",
       "\n",
       "   Total Revenue  \n",
       "0        2379.77  "
      ]
     },
     "execution_count": 61,
     "metadata": {},
     "output_type": "execute_result"
    }
   ],
   "source": [
    "#Summary report for the Purchasing Analysis\n",
    "\n",
    "#Number of Unique Items\n",
    "#Average Purchase Price\n",
    "#Total Number of Purchases\n",
    "#Total Revenue\n",
    "\n",
    "\n",
    "Purchasing_summary_df = pd.DataFrame({\n",
    "    'No. of Unique Items': [Unique_Items],\n",
    "    'Avg Purchase Price': [Avg_PP],\n",
    "    'Total No. of Purchases': [Count_PP],\n",
    "    'Total Revenue': [Total_PP]\n",
    "\n",
    "\n",
    "})\n",
    "\n",
    "Purchasing_summary_df"
   ]
  },
  {
   "cell_type": "code",
   "execution_count": 68,
   "metadata": {},
   "outputs": [],
   "source": [
    "#Gender Demographics\n",
    "#\n",
    "#Percentage and Count of Male Players\n",
    "#Percentage and Count of Female Players\n",
    "#Percentage and Count of Other / Non-Disclosed\n",
    "\n",
    "\n",
    "\n",
    "g_o_HOP_df = o_HOP_df.drop_duplicates(subset='Screen Name')\n",
    "g_o_HOP_df.head()\n",
    "\n",
    "\n",
    "Male = g_o_HOP_df.loc[g_o_HOP_df['Gender'] == 'Male']\n",
    "Count_Male = Male['Item ID'].count()\n",
    "\n",
    "Female = g_o_HOP_df.loc[g_o_HOP_df['Gender']=='Female']\n",
    "Count_Female = Female['Item ID'].count()\n",
    "\n",
    "Other =  g_o_HOP_df.loc[g_o_HOP_df['Gender']=='Other / Non-Disclosed']\n",
    "Count_Other = Other['Item ID'].count()\n",
    "\n",
    "Male_Pct = round(Count_Male/Total_Players *100,2)\n",
    "Female_Pct = round(Count_Female/Total_Players *100,2)\n",
    "Other_Pct = round(Count_Other/Total_Players *100,2)\n"
   ]
  },
  {
   "cell_type": "code",
   "execution_count": 69,
   "metadata": {},
   "outputs": [
    {
     "data": {
      "text/html": [
       "<div>\n",
       "<style scoped>\n",
       "    .dataframe tbody tr th:only-of-type {\n",
       "        vertical-align: middle;\n",
       "    }\n",
       "\n",
       "    .dataframe tbody tr th {\n",
       "        vertical-align: top;\n",
       "    }\n",
       "\n",
       "    .dataframe thead th {\n",
       "        text-align: right;\n",
       "    }\n",
       "</style>\n",
       "<table border=\"1\" class=\"dataframe\">\n",
       "  <thead>\n",
       "    <tr style=\"text-align: right;\">\n",
       "      <th></th>\n",
       "      <th>Total Count</th>\n",
       "      <th>Percentage of Players</th>\n",
       "    </tr>\n",
       "  </thead>\n",
       "  <tbody>\n",
       "    <tr>\n",
       "      <th>Male</th>\n",
       "      <td>484</td>\n",
       "      <td>84.03%</td>\n",
       "    </tr>\n",
       "    <tr>\n",
       "      <th>Female</th>\n",
       "      <td>81</td>\n",
       "      <td>14.06%</td>\n",
       "    </tr>\n",
       "    <tr>\n",
       "      <th>Other/Non-Disclosed</th>\n",
       "      <td>11</td>\n",
       "      <td>1.91%</td>\n",
       "    </tr>\n",
       "  </tbody>\n",
       "</table>\n",
       "</div>"
      ],
      "text/plain": [
       "                     Total Count Percentage of Players\n",
       "Male                         484                84.03%\n",
       "Female                        81                14.06%\n",
       "Other/Non-Disclosed           11                 1.91%"
      ]
     },
     "execution_count": 69,
     "metadata": {},
     "output_type": "execute_result"
    }
   ],
   "source": [
    "#Summary report for Gender Demographics\n",
    "\n",
    "\n",
    "index = [\"Male\", \"Female\", \"Other/Non-Disclosed\"]\n",
    "\n",
    "Gender_summary_df = pd.DataFrame({\"Total Count\": [Count_Male, Count_Female, Count_Other], \n",
    "                            \"Percentage of Players\": [str(Male_Pct)+ '%', str(Female_Pct)+ '%', str(Other_Pct)+ '%']},index=index)\n",
    "\n",
    "Gender_summary_df\n",
    "\n"
   ]
  },
  {
   "cell_type": "code",
   "execution_count": 88,
   "metadata": {},
   "outputs": [
    {
     "data": {
      "text/plain": [
       "3.046900826446281"
      ]
     },
     "execution_count": 88,
     "metadata": {},
     "output_type": "execute_result"
    }
   ],
   "source": [
    "#Purchasing Analysis (Gender)\n",
    "#\n",
    "#The below each broken by gender\n",
    "#\n",
    "#Purchase Count ... total number of purchases (_TP)\n",
    "#Average Purchase Price ... total number of purchasesn(_TP) divided by sum of all purchases (_TPrice)\n",
    "#Total Purchase Value .... sum of all purchases (_TPrice)\n",
    "#Average Purchase Total per Person by Gender ... sum of purchases made by unique SN per gender divided by the total number of unique SN by gender\n",
    "\n",
    "\n",
    "\n",
    "#g_o_HOP_df.head()\n",
    "\n",
    "Male_P = o_HOP_df.loc[o_HOP_df['Gender'] == 'Male']\n",
    "Male_TP = Male_P['Purchase ID'].count()\n",
    "Male_TPrice = Male_P['Price'].sum()\n",
    "Male_TItem = Male_P['Item ID'].count()\n",
    "Male_U_Sum = Male['Price'].sum()\n",
    "\n",
    "\n",
    "\n",
    "Female_P = o_HOP_df.loc[o_HOP_df['Gender'] == 'Female']\n",
    "Female_TP = Female_P['Purchase ID'].count\n",
    "Female_TPrice = Female_P['Price'].sum()\n",
    "Female_TItem = Female_P['Item ID'].count()\n",
    "Female_U_Sum = Female['Price'].sum()\n",
    "\n",
    "\n",
    "Other_P = o_HOP_df.loc[o_HOP_df['Gender'] == 'Other / Non-Disclosed']\n",
    "Other_TP = Other_P['Purchase ID'].count\n",
    "Other_TPrice = Other_P['Price'].sum()\n",
    "Other_TItem = Other_P['Item ID'].count()\n",
    "Other_U_Sum = Other['Price'].sum()\n",
    "\n",
    "\n",
    "Male_Avg = Male_TP/Male_TPrice\n",
    "AvgPTpPbG = Male_U_Sum/Count_Male\n",
    "AvgPTpPbG\n",
    "\n",
    "\n",
    "\n"
   ]
  },
  {
   "cell_type": "code",
   "execution_count": null,
   "metadata": {},
   "outputs": [],
   "source": [
    "#Summary report for Purchasing Analysis (Gender)\n",
    "\n"
   ]
  },
  {
   "cell_type": "code",
   "execution_count": null,
   "metadata": {},
   "outputs": [],
   "source": []
  },
  {
   "cell_type": "code",
   "execution_count": null,
   "metadata": {},
   "outputs": [],
   "source": []
  },
  {
   "cell_type": "code",
   "execution_count": null,
   "metadata": {},
   "outputs": [],
   "source": []
  },
  {
   "cell_type": "code",
   "execution_count": null,
   "metadata": {},
   "outputs": [],
   "source": [
    "o_HOP_df[o_HOP_df.Gender == 'Male']"
   ]
  },
  {
   "cell_type": "code",
   "execution_count": null,
   "metadata": {},
   "outputs": [],
   "source": [
    "gendf = o_HOP_df.groupby('Gender').count()\n",
    "gendf\n",
    "\n",
    "\n",
    "aggtest = o_HOP_df.groupby(['Gender','Item Name']).agg({'Gender':['count']})\n",
    "aggtest\n"
   ]
  },
  {
   "cell_type": "code",
   "execution_count": null,
   "metadata": {},
   "outputs": [],
   "source": []
  },
  {
   "cell_type": "code",
   "execution_count": null,
   "metadata": {},
   "outputs": [],
   "source": []
  }
 ],
 "metadata": {
  "kernelspec": {
   "display_name": "Python 3",
   "language": "python",
   "name": "python3"
  },
  "language_info": {
   "codemirror_mode": {
    "name": "ipython",
    "version": 3
   },
   "file_extension": ".py",
   "mimetype": "text/x-python",
   "name": "python",
   "nbconvert_exporter": "python",
   "pygments_lexer": "ipython3",
   "version": "3.7.3"
  }
 },
 "nbformat": 4,
 "nbformat_minor": 2
}
